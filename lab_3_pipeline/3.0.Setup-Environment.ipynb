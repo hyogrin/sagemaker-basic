{
 "cells": [
  {
   "cell_type": "markdown",
   "id": "577adf25",
   "metadata": {},
   "source": [
    "# [Module 3.0] 환경 셋업\n",
    "\n",
    "## 본 워크샵의 모든 노트북은 `conda_python3` 를  선택해야 합니다."
   ]
  },
  {
   "cell_type": "markdown",
   "id": "666d7394",
   "metadata": {},
   "source": [
    "# 1. SageMaker SDK 업그레이드\n"
   ]
  },
  {
   "cell_type": "code",
   "execution_count": null,
   "id": "d7cda04b-1186-4535-a71e-011e492b3e41",
   "metadata": {
    "tags": []
   },
   "outputs": [],
   "source": [
    "! pip list | grep sagemaker"
   ]
  },
  {
   "cell_type": "code",
   "execution_count": null,
   "id": "16c4b82a-ab8d-49ac-a8ee-08651ebcb67e",
   "metadata": {
    "tags": []
   },
   "outputs": [],
   "source": [
    "! pip install --upgrade sagemaker"
   ]
  },
  {
   "cell_type": "code",
   "execution_count": null,
   "id": "e93e8563-0a24-4999-92f8-caa148d3cfe9",
   "metadata": {
    "tags": []
   },
   "outputs": [],
   "source": [
    "! pip list | grep sagemaker"
   ]
  },
  {
   "cell_type": "markdown",
   "id": "89849009",
   "metadata": {},
   "source": [
    "# 2. SageMaker Experiment 설치"
   ]
  },
  {
   "cell_type": "code",
   "execution_count": null,
   "id": "969d0a67",
   "metadata": {
    "tags": []
   },
   "outputs": [],
   "source": [
    "!pip install --upgrade sagemaker-experiments"
   ]
  },
  {
   "cell_type": "code",
   "execution_count": null,
   "id": "0b2ad6e1",
   "metadata": {},
   "outputs": [],
   "source": []
  },
  {
   "cell_type": "code",
   "execution_count": null,
   "id": "2d4d014e",
   "metadata": {},
   "outputs": [],
   "source": []
  }
 ],
 "metadata": {
  "kernelspec": {
   "display_name": "conda_python3",
   "language": "python",
   "name": "conda_python3"
  },
  "language_info": {
   "codemirror_mode": {
    "name": "ipython",
    "version": 3
   },
   "file_extension": ".py",
   "mimetype": "text/x-python",
   "name": "python",
   "nbconvert_exporter": "python",
   "pygments_lexer": "ipython3",
   "version": "3.10.10"
  }
 },
 "nbformat": 4,
 "nbformat_minor": 5
}
